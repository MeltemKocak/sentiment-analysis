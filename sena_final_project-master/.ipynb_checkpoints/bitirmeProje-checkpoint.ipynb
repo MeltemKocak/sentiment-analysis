{
 "cells": [
  {
   "cell_type": "code",
   "execution_count": 6,
   "id": "d9ac5b43",
   "metadata": {
    "scrolled": true,
    "ExecuteTime": {
     "end_time": "2023-06-04T22:20:40.437481600Z",
     "start_time": "2023-06-04T22:20:39.635161500Z"
    }
   },
   "outputs": [],
   "source": [
    "import string  \n",
    "import numpy as np\n",
    "import pandas as pd\n",
    "import tensorflow as tf\n",
    "from tensorflow import keras\n",
    "from tensorflow.keras.preprocessing.text import Tokenizer\n",
    "from sklearn.model_selection import train_test_split\n",
    "from tensorflow.keras.preprocessing.sequence import pad_sequences\n",
    "from sklearn import preprocessing \n",
    "import re"
   ]
  },
  {
   "cell_type": "code",
   "execution_count": null,
   "id": "088ee031",
   "metadata": {},
   "outputs": [],
   "source": []
  },
  {
   "cell_type": "code",
   "execution_count": 39,
   "id": "93b35e55",
   "metadata": {
    "ExecuteTime": {
     "end_time": "2023-06-04T22:52:31.832414800Z",
     "start_time": "2023-06-04T22:52:31.492219600Z"
    }
   },
   "outputs": [],
   "source": [
    "# veri seti okumasi\n",
    "data=pd.read_csv(r\"C:\\Users\\meltem\\Desktop\\TEZPROJE\\sena_tez_project_sonhali\\sena_final_project-master\\Twitter_Data.csv\")"
   ]
  },
  {
   "cell_type": "code",
   "execution_count": 40,
   "id": "96691386",
   "metadata": {
    "ExecuteTime": {
     "end_time": "2023-06-04T22:52:33.994457400Z",
     "start_time": "2023-06-04T22:52:33.987468500Z"
    }
   },
   "outputs": [
    {
     "data": {
      "text/plain": "                                          clean_text  category\n0  when modi promised “minimum government maximum...      -1.0\n1  talk all the nonsense and continue all the dra...       0.0\n2  what did just say vote for modi  welcome bjp t...       1.0\n3  asking his supporters prefix chowkidar their n...       1.0\n4  answer who among these the most powerful world...       1.0",
      "text/html": "<div>\n<style scoped>\n    .dataframe tbody tr th:only-of-type {\n        vertical-align: middle;\n    }\n\n    .dataframe tbody tr th {\n        vertical-align: top;\n    }\n\n    .dataframe thead th {\n        text-align: right;\n    }\n</style>\n<table border=\"1\" class=\"dataframe\">\n  <thead>\n    <tr style=\"text-align: right;\">\n      <th></th>\n      <th>clean_text</th>\n      <th>category</th>\n    </tr>\n  </thead>\n  <tbody>\n    <tr>\n      <th>0</th>\n      <td>when modi promised “minimum government maximum...</td>\n      <td>-1.0</td>\n    </tr>\n    <tr>\n      <th>1</th>\n      <td>talk all the nonsense and continue all the dra...</td>\n      <td>0.0</td>\n    </tr>\n    <tr>\n      <th>2</th>\n      <td>what did just say vote for modi  welcome bjp t...</td>\n      <td>1.0</td>\n    </tr>\n    <tr>\n      <th>3</th>\n      <td>asking his supporters prefix chowkidar their n...</td>\n      <td>1.0</td>\n    </tr>\n    <tr>\n      <th>4</th>\n      <td>answer who among these the most powerful world...</td>\n      <td>1.0</td>\n    </tr>\n  </tbody>\n</table>\n</div>"
     },
     "execution_count": 40,
     "metadata": {},
     "output_type": "execute_result"
    }
   ],
   "source": [
    "# ilk 10 veri gorunmesi\n",
    "data.head(5)"
   ]
  },
  {
   "cell_type": "code",
   "execution_count": 41,
   "id": "8b6ae502",
   "metadata": {
    "pycharm": {
     "name": "#%%\n"
    },
    "ExecuteTime": {
     "end_time": "2023-06-04T22:52:38.861879700Z",
     "start_time": "2023-06-04T22:52:38.854406400Z"
    }
   },
   "outputs": [
    {
     "data": {
      "text/plain": "array([-1.,  0.,  1., nan])"
     },
     "execution_count": 41,
     "metadata": {},
     "output_type": "execute_result"
    }
   ],
   "source": [
    "# category gorunmesi\n",
    "data.category.unique()"
   ]
  },
  {
   "cell_type": "code",
   "execution_count": 42,
   "id": "556d87a5",
   "metadata": {
    "pycharm": {
     "name": "#%%\n"
    },
    "ExecuteTime": {
     "end_time": "2023-06-04T22:52:42.997144900Z",
     "start_time": "2023-06-04T22:52:42.976789200Z"
    }
   },
   "outputs": [
    {
     "data": {
      "text/plain": "True"
     },
     "execution_count": 42,
     "metadata": {},
     "output_type": "execute_result"
    }
   ],
   "source": [
    "data.isnull().values.any()"
   ]
  },
  {
   "cell_type": "code",
   "execution_count": 43,
   "id": "e4f6f456",
   "metadata": {
    "ExecuteTime": {
     "end_time": "2023-06-04T22:52:45.480748500Z",
     "start_time": "2023-06-04T22:52:45.438121600Z"
    }
   },
   "outputs": [],
   "source": [
    "data=data.dropna()"
   ]
  },
  {
   "cell_type": "code",
   "execution_count": 44,
   "id": "ec8c2987",
   "metadata": {
    "ExecuteTime": {
     "end_time": "2023-06-04T22:52:48.988889800Z",
     "start_time": "2023-06-04T22:52:48.838860500Z"
    }
   },
   "outputs": [],
   "source": [
    "data['clean_text'] = data['clean_text'].str.replace('\\d+', '')\n",
    "data['clean_text'] = data['clean_text'].str.rstrip(string.digits)"
   ]
  },
  {
   "cell_type": "code",
   "execution_count": 45,
   "id": "fe6d7a10",
   "metadata": {
    "ExecuteTime": {
     "end_time": "2023-06-04T22:52:52.369220200Z",
     "start_time": "2023-06-04T22:52:52.320612400Z"
    }
   },
   "outputs": [
    {
     "name": "stdout",
     "output_type": "stream",
     "text": [
      "clean_text    35509\n",
      "category      35509\n",
      "dtype: int64\n",
      "clean_text    55211\n",
      "category      55211\n",
      "dtype: int64\n",
      "clean_text    72249\n",
      "category      72249\n",
      "dtype: int64\n"
     ]
    }
   ],
   "source": [
    "print(data[data.category==-1.0].count())\n",
    "print(data[data.category==0.0].count())\n",
    "print(data[data.category==1.0].count())\n"
   ]
  },
  {
   "cell_type": "code",
   "execution_count": 46,
   "id": "04043db4",
   "metadata": {
    "pycharm": {
     "name": "#%%\n"
    },
    "ExecuteTime": {
     "end_time": "2023-06-04T22:52:56.302163Z",
     "start_time": "2023-06-04T22:52:56.276514400Z"
    }
   },
   "outputs": [
    {
     "data": {
      "text/plain": "False"
     },
     "execution_count": 46,
     "metadata": {},
     "output_type": "execute_result"
    }
   ],
   "source": [
    "data.isnull().values.any()"
   ]
  },
  {
   "cell_type": "code",
   "execution_count": 47,
   "id": "266d7ff0",
   "metadata": {
    "pycharm": {
     "name": "#%%\n"
    },
    "ExecuteTime": {
     "end_time": "2023-06-04T22:52:59.945845400Z",
     "start_time": "2023-06-04T22:52:59.939407900Z"
    }
   },
   "outputs": [
    {
     "data": {
      "text/plain": "                                          clean_text  category\n0  when modi promised “minimum government maximum...      -1.0\n1  talk all the nonsense and continue all the dra...       0.0\n2  what did just say vote for modi  welcome bjp t...       1.0\n3  asking his supporters prefix chowkidar their n...       1.0\n4  answer who among these the most powerful world...       1.0",
      "text/html": "<div>\n<style scoped>\n    .dataframe tbody tr th:only-of-type {\n        vertical-align: middle;\n    }\n\n    .dataframe tbody tr th {\n        vertical-align: top;\n    }\n\n    .dataframe thead th {\n        text-align: right;\n    }\n</style>\n<table border=\"1\" class=\"dataframe\">\n  <thead>\n    <tr style=\"text-align: right;\">\n      <th></th>\n      <th>clean_text</th>\n      <th>category</th>\n    </tr>\n  </thead>\n  <tbody>\n    <tr>\n      <th>0</th>\n      <td>when modi promised “minimum government maximum...</td>\n      <td>-1.0</td>\n    </tr>\n    <tr>\n      <th>1</th>\n      <td>talk all the nonsense and continue all the dra...</td>\n      <td>0.0</td>\n    </tr>\n    <tr>\n      <th>2</th>\n      <td>what did just say vote for modi  welcome bjp t...</td>\n      <td>1.0</td>\n    </tr>\n    <tr>\n      <th>3</th>\n      <td>asking his supporters prefix chowkidar their n...</td>\n      <td>1.0</td>\n    </tr>\n    <tr>\n      <th>4</th>\n      <td>answer who among these the most powerful world...</td>\n      <td>1.0</td>\n    </tr>\n  </tbody>\n</table>\n</div>"
     },
     "execution_count": 47,
     "metadata": {},
     "output_type": "execute_result"
    }
   ],
   "source": [
    "data[:5]"
   ]
  },
  {
   "cell_type": "code",
   "execution_count": 48,
   "id": "d9d90d7b",
   "metadata": {
    "pycharm": {
     "name": "#%%\n"
    },
    "ExecuteTime": {
     "end_time": "2023-06-04T22:53:12.815520900Z",
     "start_time": "2023-06-04T22:53:12.794177600Z"
    }
   },
   "outputs": [
    {
     "data": {
      "text/plain": "162969"
     },
     "execution_count": 48,
     "metadata": {},
     "output_type": "execute_result"
    }
   ],
   "source": [
    "len(data.clean_text)"
   ]
  },
  {
   "cell_type": "code",
   "execution_count": 49,
   "id": "5e482258",
   "metadata": {
    "ExecuteTime": {
     "end_time": "2023-06-04T22:53:16.714988800Z",
     "start_time": "2023-06-04T22:53:16.708147900Z"
    }
   },
   "outputs": [],
   "source": [
    "label_encoder =preprocessing .LabelEncoder()"
   ]
  },
  {
   "cell_type": "markdown",
   "source": [],
   "metadata": {
    "collapsed": false
   }
  },
  {
   "cell_type": "code",
   "execution_count": 50,
   "id": "15459642",
   "metadata": {
    "ExecuteTime": {
     "end_time": "2023-06-04T22:53:49.915222300Z",
     "start_time": "2023-06-04T22:53:49.891490Z"
    }
   },
   "outputs": [],
   "source": [
    "data['category']= label_encoder.fit_transform(data['category'])"
   ]
  },
  {
   "cell_type": "code",
   "execution_count": 51,
   "id": "5dee751f",
   "metadata": {
    "ExecuteTime": {
     "end_time": "2023-06-04T22:53:52.825468400Z",
     "start_time": "2023-06-04T22:53:52.819150200Z"
    }
   },
   "outputs": [
    {
     "data": {
      "text/plain": "array([0, 1, 2], dtype=int64)"
     },
     "execution_count": 51,
     "metadata": {},
     "output_type": "execute_result"
    }
   ],
   "source": [
    "data.category.unique()\n"
   ]
  },
  {
   "cell_type": "code",
   "execution_count": 52,
   "id": "744fdd3c",
   "metadata": {
    "pycharm": {
     "name": "#%%\n"
    },
    "ExecuteTime": {
     "end_time": "2023-06-04T22:54:06.466766Z",
     "start_time": "2023-06-04T22:54:06.421321600Z"
    }
   },
   "outputs": [],
   "source": [
    "for x in data.clean_text:\n",
    "    if type(x)==float:\n",
    "        print(x)"
   ]
  },
  {
   "cell_type": "code",
   "execution_count": 53,
   "id": "5f57740a",
   "metadata": {
    "pycharm": {
     "name": "#%%\n"
    },
    "ExecuteTime": {
     "end_time": "2023-06-04T22:54:18.929133600Z",
     "start_time": "2023-06-04T22:54:18.842402Z"
    }
   },
   "outputs": [],
   "source": [
    "# X=data.Tweet.string.lower()\n",
    "X=[str(x.lower()) for x in data.clean_text]\n",
    "y=data.category"
   ]
  },
  {
   "cell_type": "code",
   "execution_count": 36,
   "id": "1ef60287",
   "metadata": {
    "pycharm": {
     "name": "#%%\n"
    },
    "ExecuteTime": {
     "end_time": "2023-06-04T22:51:30.438152500Z",
     "start_time": "2023-06-04T22:51:30.367898100Z"
    }
   },
   "outputs": [],
   "source": []
  },
  {
   "cell_type": "code",
   "execution_count": 54,
   "id": "06bdc077",
   "metadata": {
    "ExecuteTime": {
     "end_time": "2023-06-04T22:54:26.121023200Z",
     "start_time": "2023-06-04T22:54:26.114529300Z"
    }
   },
   "outputs": [
    {
     "data": {
      "text/plain": "['when modi promised “minimum government maximum governance” expected him begin the difficult job reforming the state why does take years get justice state should and not business and should exit psus and temples',\n 'talk all the nonsense and continue all the drama will vote for modi ',\n 'what did just say vote for modi  welcome bjp told you rahul the main campaigner for modi think modi should just relax',\n 'asking his supporters prefix chowkidar their names modi did great service now there confusion what read what not now crustal clear what will crass filthy nonsensical see how most abuses are coming from chowkidars',\n 'answer who among these the most powerful world leader today trump putin modi may ',\n 'kiya tho refresh maarkefir comment karo ',\n 'surat women perform yagna seeks divine grace for narendra modi become again\\n',\n 'this comes from cabinet which has scholars like modi smriti and hema time introspect',\n 'with upcoming election india saga going important pair look current modi leads govt elected with deal brexit combination this weekly looks juicy bears imho ',\n 'gandhi was gay does modi  ']"
     },
     "execution_count": 54,
     "metadata": {},
     "output_type": "execute_result"
    }
   ],
   "source": [
    "X[:10]"
   ]
  },
  {
   "cell_type": "code",
   "execution_count": 55,
   "id": "1d028092",
   "metadata": {
    "ExecuteTime": {
     "end_time": "2023-06-04T22:54:31.226772400Z",
     "start_time": "2023-06-04T22:54:31.218480500Z"
    }
   },
   "outputs": [
    {
     "data": {
      "text/plain": "0    0\n1    1\n2    2\n3    2\n4    2\n5    1\n6    1\n7    1\n8    2\n9    2\nName: category, dtype: int64"
     },
     "execution_count": 55,
     "metadata": {},
     "output_type": "execute_result"
    }
   ],
   "source": [
    "y[:10]"
   ]
  },
  {
   "cell_type": "code",
   "execution_count": null,
   "id": "7b0c6fc1",
   "metadata": {
    "pycharm": {
     "name": "#%%\n"
    }
   },
   "outputs": [],
   "source": []
  },
  {
   "cell_type": "code",
   "execution_count": 56,
   "id": "7a87dbae",
   "metadata": {
    "ExecuteTime": {
     "end_time": "2023-06-04T22:54:57.397703200Z",
     "start_time": "2023-06-04T22:54:57.343149100Z"
    }
   },
   "outputs": [],
   "source": [
    "X_train,X_test,y_train,y_test=train_test_split(X,y,random_state=2,shuffle=True ,test_size=0.2)"
   ]
  },
  {
   "cell_type": "code",
   "execution_count": 57,
   "id": "7d84a8de",
   "metadata": {
    "ExecuteTime": {
     "end_time": "2023-06-04T22:55:12.783203600Z",
     "start_time": "2023-06-04T22:55:12.761462700Z"
    }
   },
   "outputs": [
    {
     "data": {
      "text/plain": "['how about this year old having enough sense realize modi famous person',\n 'sure modi receiving negative feedback from constituencies various sources including desperate and frustrated create lahar\\nbut failing miserably ghanta lahar',\n 'vijay mallya lashes out modi govt psu banks for double standards after jet airways bailout ']"
     },
     "execution_count": 57,
     "metadata": {},
     "output_type": "execute_result"
    }
   ],
   "source": [
    "X_train[:3]"
   ]
  },
  {
   "cell_type": "code",
   "execution_count": 58,
   "id": "31789798",
   "metadata": {
    "ExecuteTime": {
     "end_time": "2023-06-04T22:55:21.953458400Z",
     "start_time": "2023-06-04T22:55:21.939924600Z"
    }
   },
   "outputs": [
    {
     "data": {
      "text/plain": "64849     2\n89165     1\n105022    0\nName: category, dtype: int64"
     },
     "execution_count": 58,
     "metadata": {},
     "output_type": "execute_result"
    }
   ],
   "source": [
    "y_test[:3]"
   ]
  },
  {
   "cell_type": "code",
   "execution_count": 24,
   "id": "967f8ee0",
   "metadata": {},
   "outputs": [],
   "source": [
    "X_train=[x for x in X_train]"
   ]
  },
  {
   "cell_type": "code",
   "execution_count": 25,
   "id": "28e4848c",
   "metadata": {},
   "outputs": [],
   "source": [
    "X_test=[x for x in X_test]"
   ]
  },
  {
   "cell_type": "code",
   "execution_count": 26,
   "id": "ddae1279",
   "metadata": {},
   "outputs": [
    {
     "name": "stdout",
     "output_type": "stream",
     "text": [
      "<class 'list'>\n"
     ]
    }
   ],
   "source": [
    "print(type(X_train))"
   ]
  },
  {
   "cell_type": "code",
   "execution_count": 59,
   "id": "489a072e",
   "metadata": {
    "ExecuteTime": {
     "end_time": "2023-06-04T22:55:37.287722400Z",
     "start_time": "2023-06-04T22:55:37.265533600Z"
    }
   },
   "outputs": [
    {
     "data": {
      "text/plain": "['how about this year old having enough sense realize modi famous person',\n 'sure modi receiving negative feedback from constituencies various sources including desperate and frustrated create lahar\\nbut failing miserably ghanta lahar',\n 'vijay mallya lashes out modi govt psu banks for double standards after jet airways bailout ']"
     },
     "execution_count": 59,
     "metadata": {},
     "output_type": "execute_result"
    }
   ],
   "source": [
    "X_train[:3]"
   ]
  },
  {
   "cell_type": "code",
   "execution_count": 67,
   "id": "2ca8f7b7",
   "metadata": {},
   "outputs": [],
   "source": []
  },
  {
   "cell_type": "code",
   "execution_count": 89,
   "id": "3df6fa49",
   "metadata": {},
   "outputs": [],
   "source": [
    "# tokenizer=Tokenizer(oov_token=\n",
    "#\n",
    "# tokenizer.fit_on_texts(X_train)\n",
    "# word_index=tokenizer.word_index"
   ]
  },
  {
   "cell_type": "code",
   "execution_count": 60,
   "id": "be2ba806",
   "metadata": {
    "pycharm": {
     "name": "#%%\n"
    },
    "ExecuteTime": {
     "end_time": "2023-06-04T22:56:42.811909100Z",
     "start_time": "2023-06-04T22:56:37.053512700Z"
    }
   },
   "outputs": [],
   "source": [
    "oov_tok = \"<OOV>\"\n",
    "tokenizer = Tokenizer(num_words=10000, oov_token=oov_tok)\n",
    "tokenizer.fit_on_texts(X_train)\n",
    "\n",
    "word_index = tokenizer.word_index\n",
    "\n",
    "training_sequences = tokenizer.texts_to_sequences(X_train)\n",
    "training_padded = pad_sequences(training_sequences, maxlen=100, padding='post', truncating='post')\n",
    "\n",
    "testing_sequences = tokenizer.texts_to_sequences(X_test)\n",
    "testing_padded = pad_sequences(testing_sequences, maxlen=100, padding='post', truncating='post')\n"
   ]
  },
  {
   "cell_type": "code",
   "execution_count": 61,
   "id": "d58af2d7",
   "metadata": {
    "pycharm": {
     "name": "#%%\n"
    },
    "ExecuteTime": {
     "end_time": "2023-06-04T22:56:56.068019500Z",
     "start_time": "2023-06-04T22:56:56.022165700Z"
    }
   },
   "outputs": [],
   "source": [
    "\n",
    "training_padded = np.array(training_padded)\n",
    "# training_labels = np.array(y_train)\n",
    "testing_padded = np.array(testing_padded)\n",
    "# testing_labels = np.array(y_test)"
   ]
  },
  {
   "cell_type": "code",
   "execution_count": 62,
   "id": "3a7e0db9",
   "metadata": {
    "ExecuteTime": {
     "end_time": "2023-06-04T22:57:00.280891600Z",
     "start_time": "2023-06-04T22:57:00.276361400Z"
    }
   },
   "outputs": [
    {
     "name": "stdout",
     "output_type": "stream",
     "text": [
      "<class 'numpy.ndarray'>\n",
      "[2 0 1 ... 2 1 2]\n"
     ]
    }
   ],
   "source": [
    "y_train=np.array(y_train)\n",
    "print(type(y_train))\n",
    "print(y_train)"
   ]
  },
  {
   "cell_type": "code",
   "execution_count": 130,
   "id": "7b160eb0",
   "metadata": {
    "ExecuteTime": {
     "end_time": "2023-06-05T00:22:13.058663Z",
     "start_time": "2023-06-05T00:22:12.987137200Z"
    }
   },
   "outputs": [],
   "source": [
    "model = tf.keras.Sequential([\n",
    "    tf.keras.layers.Embedding(10000, 16, input_length=100),\n",
    "    tf.keras.layers.GlobalAveragePooling1D(),\n",
    "    tf.keras.layers.Dense(24, activation='relu'),\n",
    "     tf.keras.layers.Dropout(.3),\n",
    "     tf.keras.layers.Dense(64, activation='relu'),\n",
    "\n",
    "    tf.keras.layers.Dense(3, activation='sigmoid')\n",
    "])\n",
    "\n",
    "model.compile(loss='sparse_categorical_crossentropy',optimizer='adam',metrics=['accuracy'])"
   ]
  },
  {
   "cell_type": "code",
   "execution_count": 132,
   "id": "326082c7",
   "metadata": {
    "ExecuteTime": {
     "end_time": "2023-06-05T00:22:25.984249700Z",
     "start_time": "2023-06-05T00:22:25.966192100Z"
    }
   },
   "outputs": [
    {
     "name": "stdout",
     "output_type": "stream",
     "text": [
      "Model: \"sequential_4\"\n",
      "_________________________________________________________________\n",
      " Layer (type)                Output Shape              Param #   \n",
      "=================================================================\n",
      " embedding_4 (Embedding)     (None, 100, 16)           160000    \n",
      "                                                                 \n",
      " global_average_pooling1d_4   (None, 16)               0         \n",
      " (GlobalAveragePooling1D)                                        \n",
      "                                                                 \n",
      " dense_12 (Dense)            (None, 24)                408       \n",
      "                                                                 \n",
      " dropout_4 (Dropout)         (None, 24)                0         \n",
      "                                                                 \n",
      " dense_13 (Dense)            (None, 64)                1600      \n",
      "                                                                 \n",
      " dense_14 (Dense)            (None, 3)                 195       \n",
      "                                                                 \n",
      "=================================================================\n",
      "Total params: 162,203\n",
      "Trainable params: 162,203\n",
      "Non-trainable params: 0\n",
      "_________________________________________________________________\n"
     ]
    }
   ],
   "source": [
    "model.summary()"
   ]
  },
  {
   "cell_type": "code",
   "execution_count": 133,
   "id": "06030cfa",
   "metadata": {
    "ExecuteTime": {
     "end_time": "2023-06-05T00:24:35.546156800Z",
     "start_time": "2023-06-05T00:23:05.586050600Z"
    }
   },
   "outputs": [
    {
     "name": "stdout",
     "output_type": "stream",
     "text": [
      "Epoch 1/10\n",
      "4075/4075 - 8s - loss: 0.5211 - accuracy: 0.7874 - 8s/epoch - 2ms/step\n",
      "Epoch 2/10\n",
      "4075/4075 - 7s - loss: 0.2078 - accuracy: 0.9384 - 7s/epoch - 2ms/step\n",
      "Epoch 3/10\n",
      "4075/4075 - 10s - loss: 0.1680 - accuracy: 0.9504 - 10s/epoch - 2ms/step\n",
      "Epoch 4/10\n",
      "4075/4075 - 8s - loss: 0.1463 - accuracy: 0.9562 - 8s/epoch - 2ms/step\n",
      "Epoch 5/10\n",
      "4075/4075 - 8s - loss: 0.1341 - accuracy: 0.9592 - 8s/epoch - 2ms/step\n",
      "Epoch 6/10\n",
      "4075/4075 - 10s - loss: 0.1240 - accuracy: 0.9619 - 10s/epoch - 2ms/step\n",
      "Epoch 7/10\n",
      "4075/4075 - 9s - loss: 0.1151 - accuracy: 0.9644 - 9s/epoch - 2ms/step\n",
      "Epoch 8/10\n",
      "4075/4075 - 8s - loss: 0.1087 - accuracy: 0.9659 - 8s/epoch - 2ms/step\n",
      "Epoch 9/10\n",
      "4075/4075 - 13s - loss: 0.1000 - accuracy: 0.9685 - 13s/epoch - 3ms/step\n",
      "Epoch 10/10\n",
      "4075/4075 - 8s - loss: 0.0943 - accuracy: 0.9705 - 8s/epoch - 2ms/step\n"
     ]
    }
   ],
   "source": [
    "history = model.fit(training_padded, y_train, epochs=10, verbose=2)"
   ]
  },
  {
   "cell_type": "code",
   "execution_count": 134,
   "outputs": [
    {
     "name": "stdout",
     "output_type": "stream",
     "text": [
      "1019/1019 [==============================] - 2s 1ms/step - loss: 0.2098 - accuracy: 0.9455\n"
     ]
    }
   ],
   "source": [
    "histo=model.evaluate(testing_padded,y_test)"
   ],
   "metadata": {
    "collapsed": false,
    "ExecuteTime": {
     "end_time": "2023-06-05T00:24:45.339073400Z",
     "start_time": "2023-06-05T00:24:43.786324400Z"
    }
   }
  },
  {
   "cell_type": "code",
   "execution_count": 69,
   "outputs": [
    {
     "data": {
      "text/plain": "<keras.callbacks.History at 0x1f085801190>"
     },
     "execution_count": 69,
     "metadata": {},
     "output_type": "execute_result"
    }
   ],
   "source": [],
   "metadata": {
    "collapsed": false,
    "ExecuteTime": {
     "end_time": "2023-06-04T23:14:40.962652900Z",
     "start_time": "2023-06-04T23:14:40.954849300Z"
    }
   }
  },
  {
   "cell_type": "code",
   "execution_count": 71,
   "id": "a8a89d3b",
   "metadata": {
    "ExecuteTime": {
     "end_time": "2023-06-04T23:18:51.263445700Z",
     "start_time": "2023-06-04T23:18:50.984900Z"
    }
   },
   "outputs": [
    {
     "data": {
      "text/plain": "<Figure size 640x480 with 1 Axes>",
      "image/png": "[encoded data removed]"
     },
     "metadata": {},
     "output_type": "display_data"
    },
    {
     "data": {
      "text/plain": "<Figure size 640x480 with 1 Axes>",
      "image/png": "[encoded data removed]"
     },
     "metadata": {},
     "output_type": "display_data"
    }
   ],
   "source": [
    "import matplotlib.pyplot as plt\n",
    "\n",
    "\n",
    "def plot_graphs(history, string):\n",
    "  plt.plot(history.history[string])\n",
    "  plt.plot(history.history[string])\n",
    "  plt.xlabel(\"Epochs\")\n",
    "  plt.ylabel(string)\n",
    "\n",
    "  plt.legend([string, string])\n",
    "  plt.show()\n",
    "\n",
    "plot_graphs(history, \"accuracy\")\n",
    "plot_graphs(history, \"loss\")"
   ]
  },
  {
   "cell_type": "code",
   "execution_count": 71,
   "id": "6a4c62fb",
   "metadata": {
    "pycharm": {
     "name": "#%%\n"
    },
    "ExecuteTime": {
     "end_time": "2023-06-04T23:19:42.321078600Z",
     "start_time": "2023-06-04T23:19:42.306116600Z"
    }
   },
   "outputs": [],
   "source": []
  },
  {
   "cell_type": "code",
   "execution_count": 128,
   "id": "287aadef",
   "metadata": {
    "pycharm": {
     "name": "#%%\n"
    }
   },
   "outputs": [],
   "source": []
  },
  {
   "cell_type": "code",
   "execution_count": 72,
   "id": "c5fe5ab0",
   "metadata": {
    "pycharm": {
     "name": "#%%\n"
    },
    "ExecuteTime": {
     "end_time": "2023-06-04T23:19:46.921723400Z",
     "start_time": "2023-06-04T23:19:46.904164800Z"
    }
   },
   "outputs": [],
   "source": [
    "y_test=np.array(y_test)"
   ]
  },
  {
   "cell_type": "code",
   "execution_count": 39,
   "id": "1aa339a7",
   "metadata": {
    "pycharm": {
     "name": "#%%\n"
    }
   },
   "outputs": [
    {
     "name": "stdout",
     "output_type": "stream",
     "text": [
      "25/25 [==============================] - 1s 3ms/step - loss: 0.1999 - accuracy: 0.9538\n"
     ]
    }
   ],
   "source": []
  },
  {
   "cell_type": "code",
   "execution_count": 73,
   "id": "423395c5",
   "metadata": {
    "pycharm": {
     "name": "#%%\n"
    },
    "ExecuteTime": {
     "end_time": "2023-06-04T23:20:58.362510300Z",
     "start_time": "2023-06-04T23:20:58.273745100Z"
    }
   },
   "outputs": [],
   "source": [
    "#veri setide\n",
    "sentiment_dic={\n",
    "    'negatif':0,\n",
    "    'positif':2,\n",
    "    'notr':1,\n",
    "\n",
    "\n",
    "\n",
    "}"
   ]
  },
  {
   "cell_type": "code",
   "execution_count": 79,
   "id": "d2abd940",
   "metadata": {
    "pycharm": {
     "name": "#%%\n"
    },
    "ExecuteTime": {
     "end_time": "2023-06-04T23:31:31.933637900Z",
     "start_time": "2023-06-04T23:31:31.852393800Z"
    }
   },
   "outputs": [
    {
     "name": "stdout",
     "output_type": "stream",
     "text": [
      "1/1 [==============================] - 0s 31ms/step\n",
      "[[0.94260794 0.01746029 0.22689365]]\n"
     ]
    }
   ],
   "source": [
    "sentence = [\"didn’ write chowkidar does mean ’ anti modi try visit the plz not all who haven’ used are anti\"]\n",
    "\n",
    "sequences = tokenizer.texts_to_sequences(sentence)\n",
    "padded = pad_sequences(sequences, maxlen=100, padding='post', truncating='post')\n",
    "prediction=model.predict(padded)\n",
    "print(prediction)"
   ]
  },
  {
   "cell_type": "code",
   "execution_count": 82,
   "id": "eb9567a7",
   "metadata": {
    "pycharm": {
     "name": "#%%\n"
    },
    "ExecuteTime": {
     "end_time": "2023-06-04T23:34:14.910670800Z",
     "start_time": "2023-06-04T23:34:14.902682Z"
    }
   },
   "outputs": [
    {
     "name": "stdout",
     "output_type": "stream",
     "text": [
      "0\n"
     ]
    }
   ],
   "source": [
    "print(np.argmax(prediction))"
   ]
  },
  {
   "cell_type": "code",
   "execution_count": 135,
   "outputs": [
    {
     "name": "stdout",
     "output_type": "stream",
     "text": [
      "1019/1019 [==============================] - 1s 1ms/step\n"
     ]
    }
   ],
   "source": [
    "rounded_predictions = model.predict(testing_padded)"
   ],
   "metadata": {
    "collapsed": false,
    "ExecuteTime": {
     "end_time": "2023-06-05T00:25:00.004760700Z",
     "start_time": "2023-06-05T00:24:58.383478400Z"
    }
   }
  },
  {
   "cell_type": "code",
   "execution_count": 136,
   "outputs": [],
   "source": [
    "rounded_labels=np.argmax(rounded_predictions, axis=1)"
   ],
   "metadata": {
    "collapsed": false,
    "ExecuteTime": {
     "end_time": "2023-06-05T00:25:03.957778200Z",
     "start_time": "2023-06-05T00:25:03.939283500Z"
    }
   }
  },
  {
   "cell_type": "code",
   "execution_count": 137,
   "outputs": [
    {
     "data": {
      "text/plain": "array([2, 1, 0, 2, 1, 0, 1, 1, 0, 2], dtype=int64)"
     },
     "execution_count": 137,
     "metadata": {},
     "output_type": "execute_result"
    }
   ],
   "source": [
    "rounded_labels[:10]"
   ],
   "metadata": {
    "collapsed": false,
    "ExecuteTime": {
     "end_time": "2023-06-05T00:25:06.756873Z",
     "start_time": "2023-06-05T00:25:06.744983200Z"
    }
   }
  },
  {
   "cell_type": "code",
   "execution_count": 95,
   "outputs": [],
   "source": [
    "a=y_test\n",
    "b=rounded_labels"
   ],
   "metadata": {
    "collapsed": false,
    "ExecuteTime": {
     "end_time": "2023-06-04T23:44:18.829077900Z",
     "start_time": "2023-06-04T23:44:18.822018800Z"
    }
   }
  },
  {
   "cell_type": "code",
   "execution_count": 97,
   "outputs": [
    {
     "data": {
      "text/plain": "{0, 1, 2}"
     },
     "execution_count": 97,
     "metadata": {},
     "output_type": "execute_result"
    }
   ],
   "source": [
    "set(b)"
   ],
   "metadata": {
    "collapsed": false,
    "ExecuteTime": {
     "end_time": "2023-06-04T23:44:43.409001100Z",
     "start_time": "2023-06-04T23:44:43.401616700Z"
    }
   }
  },
  {
   "cell_type": "code",
   "execution_count": 116,
   "outputs": [],
   "source": [
    "from sklearn.metrics import classification_report"
   ],
   "metadata": {
    "collapsed": false,
    "ExecuteTime": {
     "end_time": "2023-06-05T00:05:56.991847100Z",
     "start_time": "2023-06-05T00:05:56.983938100Z"
    }
   }
  },
  {
   "cell_type": "code",
   "execution_count": 138,
   "outputs": [
    {
     "name": "stderr",
     "output_type": "stream",
     "text": [
      "C:\\Users\\meltem\\AppData\\Local\\Programs\\Python\\Python311\\Lib\\site-packages\\sklearn\\metrics\\_classification.py:2326: UserWarning: labels size, 8, does not match size of target_names, 3\n",
      "  warnings.warn(\n",
      "C:\\Users\\meltem\\AppData\\Local\\Programs\\Python\\Python311\\Lib\\site-packages\\sklearn\\metrics\\_classification.py:1344: UndefinedMetricWarning: Precision and F-score are ill-defined and being set to 0.0 in labels with no predicted samples. Use `zero_division` parameter to control this behavior.\n",
      "  _warn_prf(average, modifier, msg_start, len(result))\n",
      "C:\\Users\\meltem\\AppData\\Local\\Programs\\Python\\Python311\\Lib\\site-packages\\sklearn\\metrics\\_classification.py:1344: UndefinedMetricWarning: Recall and F-score are ill-defined and being set to 0.0 in labels with no true samples. Use `zero_division` parameter to control this behavior.\n",
      "  _warn_prf(average, modifier, msg_start, len(result))\n",
      "C:\\Users\\meltem\\AppData\\Local\\Programs\\Python\\Python311\\Lib\\site-packages\\sklearn\\metrics\\_classification.py:1344: UndefinedMetricWarning: Precision and F-score are ill-defined and being set to 0.0 in labels with no predicted samples. Use `zero_division` parameter to control this behavior.\n",
      "  _warn_prf(average, modifier, msg_start, len(result))\n",
      "C:\\Users\\meltem\\AppData\\Local\\Programs\\Python\\Python311\\Lib\\site-packages\\sklearn\\metrics\\_classification.py:1344: UndefinedMetricWarning: Recall and F-score are ill-defined and being set to 0.0 in labels with no true samples. Use `zero_division` parameter to control this behavior.\n",
      "  _warn_prf(average, modifier, msg_start, len(result))\n",
      "C:\\Users\\meltem\\AppData\\Local\\Programs\\Python\\Python311\\Lib\\site-packages\\sklearn\\metrics\\_classification.py:1344: UndefinedMetricWarning: Precision and F-score are ill-defined and being set to 0.0 in labels with no predicted samples. Use `zero_division` parameter to control this behavior.\n",
      "  _warn_prf(average, modifier, msg_start, len(result))\n",
      "C:\\Users\\meltem\\AppData\\Local\\Programs\\Python\\Python311\\Lib\\site-packages\\sklearn\\metrics\\_classification.py:1344: UndefinedMetricWarning: Recall and F-score are ill-defined and being set to 0.0 in labels with no true samples. Use `zero_division` parameter to control this behavior.\n",
      "  _warn_prf(average, modifier, msg_start, len(result))\n"
     ]
    }
   ],
   "source": [
    "labels=np.arange(8)\n",
    "targetLab=['negatif','positif','notr']\n",
    "clf=classification_report(y_test,\n",
    "                          rounded_labels,\n",
    "                          labels=labels,\n",
    "                          target_names=targetLab,\n",
    "                          output_dict=True\n",
    ")"
   ],
   "metadata": {
    "collapsed": false,
    "ExecuteTime": {
     "end_time": "2023-06-05T00:25:14.170215900Z",
     "start_time": "2023-06-05T00:25:14.120970400Z"
    }
   }
  },
  {
   "cell_type": "code",
   "execution_count": 139,
   "outputs": [
    {
     "data": {
      "text/plain": "<Axes: >"
     },
     "execution_count": 139,
     "metadata": {},
     "output_type": "execute_result"
    },
    {
     "data": {
      "text/plain": "<Figure size 640x480 with 2 Axes>",
      "image/png": "[encoded data removed]"
     },
     "metadata": {},
     "output_type": "display_data"
    }
   ],
   "source": [
    "import seaborn as sns\n",
    "\n",
    "sns.heatmap(pd.DataFrame(clf).iloc[:-1,:].T,annot=True)"
   ],
   "metadata": {
    "collapsed": false,
    "ExecuteTime": {
     "end_time": "2023-06-05T00:25:19.007108Z",
     "start_time": "2023-06-05T00:25:18.753405900Z"
    }
   }
  },
  {
   "cell_type": "code",
   "execution_count": 141,
   "outputs": [],
   "source": [
    "from sklearn.metrics import confusion_matrix\n",
    "cf = confusion_matrix(y_test, rounded_labels)"
   ],
   "metadata": {
    "collapsed": false,
    "ExecuteTime": {
     "end_time": "2023-06-05T00:25:43.733329200Z",
     "start_time": "2023-06-05T00:25:43.724361100Z"
    }
   }
  },
  {
   "cell_type": "code",
   "execution_count": 120,
   "outputs": [
    {
     "data": {
      "text/plain": "array([[ 6419,   119,   525],\n       [  170, 10665,   155],\n       [  534,   192, 13815]], dtype=int64)"
     },
     "execution_count": 120,
     "metadata": {},
     "output_type": "execute_result"
    }
   ],
   "source": [
    "cf"
   ],
   "metadata": {
    "collapsed": false,
    "ExecuteTime": {
     "end_time": "2023-06-05T00:06:37.931041100Z",
     "start_time": "2023-06-05T00:06:37.906175500Z"
    }
   }
  },
  {
   "cell_type": "code",
   "execution_count": 143,
   "outputs": [
    {
     "data": {
      "text/plain": "array([[ 6140,   338,   585],\n       [   74, 10782,   134],\n       [  385,   262, 13894]], dtype=int64)"
     },
     "execution_count": 143,
     "metadata": {},
     "output_type": "execute_result"
    }
   ],
   "source": [
    "cf"
   ],
   "metadata": {
    "collapsed": false,
    "ExecuteTime": {
     "end_time": "2023-06-05T00:25:58.585689800Z",
     "start_time": "2023-06-05T00:25:58.573055300Z"
    }
   }
  },
  {
   "cell_type": "code",
   "execution_count": 121,
   "outputs": [
    {
     "data": {
      "text/plain": "<Axes: >"
     },
     "execution_count": 121,
     "metadata": {},
     "output_type": "execute_result"
    },
    {
     "data": {
      "text/plain": "<Figure size 500x500 with 2 Axes>",
      "image/png": "[encoded data removed]"
     },
     "metadata": {},
     "output_type": "display_data"
    }
   ],
   "source": [
    "df_cm = pd.DataFrame(cf, index =['negatif','positif','notr'],  columns =['negatif','positif','notr'] )\n",
    "plt.figure(figsize = (5,5))\n",
    "sns.heatmap(df_cm, annot=True ,fmt=\".1f\",cmap=\"GnBu\")"
   ],
   "metadata": {
    "collapsed": false,
    "ExecuteTime": {
     "end_time": "2023-06-05T00:07:21.200414Z",
     "start_time": "2023-06-05T00:07:21.028518800Z"
    }
   }
  },
  {
   "cell_type": "code",
   "execution_count": 122,
   "id": "90e48aff",
   "metadata": {
    "ExecuteTime": {
     "end_time": "2023-06-05T00:07:53.263906800Z",
     "start_time": "2023-06-05T00:07:53.219480200Z"
    }
   },
   "outputs": [],
   "source": [
    "model.save('tweetter.h5', overwrite=True)"
   ]
  },
  {
   "cell_type": "code",
   "execution_count": null,
   "outputs": [],
   "source": [],
   "metadata": {
    "collapsed": false
   }
  },
  {
   "cell_type": "code",
   "execution_count": 123,
   "id": "ae5ad423",
   "metadata": {
    "pycharm": {
     "name": "#%%\n"
    },
    "ExecuteTime": {
     "end_time": "2023-06-05T00:07:56.690342900Z",
     "start_time": "2023-06-05T00:07:56.566027Z"
    }
   },
   "outputs": [],
   "source": [
    "import pickle\n",
    "\n",
    "# saving\n",
    "with open('tweeter_tokenizer.pickle', 'wb') as handle:\n",
    "    pickle.dump(tokenizer, handle, protocol=pickle.HIGHEST_PROTOCOL)"
   ]
  },
  {
   "cell_type": "code",
   "execution_count": null,
   "id": "1f78d3c7",
   "metadata": {
    "pycharm": {
     "name": "#%%\n"
    }
   },
   "outputs": [],
   "source": []
  }
 ],
 "metadata": {
  "kernelspec": {
   "display_name": "Python 3 (ipykernel)",
   "language": "python",
   "name": "python3"
  },
  "language_info": {
   "codemirror_mode": {
    "name": "ipython",
    "version": 3
   },
   "file_extension": ".py",
   "mimetype": "text/x-python",
   "name": "python",
   "nbconvert_exporter": "python",
   "pygments_lexer": "ipython3",
   "version": "3.10.7"
  }
 },
 "nbformat": 4,
 "nbformat_minor": 5
}
